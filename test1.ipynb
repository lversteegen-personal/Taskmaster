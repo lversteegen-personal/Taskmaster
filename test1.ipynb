{
 "cells": [
  {
   "cell_type": "code",
   "execution_count": null,
   "metadata": {},
   "outputs": [],
   "source": [
    "#Only run this in colab\n",
    "from google.colab import drive\n",
    "drive.mount('/content/drive')\n",
    "%cd /content/drive/MyDrive/Github/Dimension\n",
    "import tensorflow as tf\n",
    "print(tf.__version__)\n",
    "print(tf.config.list_physical_devices('GPU'))"
   ]
  },
  {
   "cell_type": "code",
   "execution_count": 2,
   "metadata": {},
   "outputs": [
    {
     "name": "stdout",
     "output_type": "stream",
     "text": [
      "Finished step 0, 48 out of 50 remain open.\n",
      "Finished step 1, 44 out of 50 remain open.\n",
      "Finished step 2, 44 out of 50 remain open.\n",
      "Finished step 3, 44 out of 50 remain open.\n",
      "Finished step 4, 44 out of 50 remain open.\n",
      "Finished step 5, 44 out of 50 remain open.\n",
      "Finished step 6, 44 out of 50 remain open.\n",
      "Finished step 7, 44 out of 50 remain open.\n",
      "Finished step 8, 44 out of 50 remain open.\n",
      "Finished step 9, 44 out of 50 remain open.\n",
      "Finished step 10, 44 out of 50 remain open.\n",
      "Finished step 11, 44 out of 50 remain open.\n",
      "Finished step 12, 44 out of 50 remain open.\n",
      "Finished step 13, 44 out of 50 remain open.\n",
      "Finished step 14, 44 out of 50 remain open.\n",
      "Epoch 1/3\n",
      "21/21 [==============================] - 4s 8ms/step - loss: 69.7022 - eval_output_loss: 3.4270e-04 - policy_output_loss: 1.5489\n",
      "Epoch 2/3\n",
      "21/21 [==============================] - 0s 8ms/step - loss: 19.5360 - eval_output_loss: 2.4663e-04 - policy_output_loss: 0.6383\n",
      "Epoch 3/3\n",
      "21/21 [==============================] - 0s 8ms/step - loss: 10.5510 - eval_output_loss: 4.2389e-05 - policy_output_loss: 0.3811\n"
     ]
    }
   ],
   "source": [
    "import rubics\n",
    "import numpy as np\n",
    "from student import student\n",
    "from classroom import classroom\n",
    "from teacher import teacher\n",
    "from rubics_neural_networks import student_network\n",
    "\n",
    "task = rubics.rubics_task\n",
    "setup = rubics.rubics_setup\n",
    "\n",
    "student_network = student_network()\n",
    "student_template = student(task, 40,student_network)\n",
    "t = teacher(setup)\n",
    "c = classroom(task, setup, t, student_template, n_students=1, max_steps=15)\n",
    "c.run_training_batch(50)\n"
   ]
  }
 ],
 "metadata": {
  "kernelspec": {
   "display_name": "Python 3.10.8 64-bit",
   "language": "python",
   "name": "python3"
  },
  "language_info": {
   "codemirror_mode": {
    "name": "ipython",
    "version": 3
   },
   "file_extension": ".py",
   "mimetype": "text/x-python",
   "name": "python",
   "nbconvert_exporter": "python",
   "pygments_lexer": "ipython3",
   "version": "3.10.8"
  },
  "orig_nbformat": 4,
  "vscode": {
   "interpreter": {
    "hash": "ea0df938a2fb4e996541c96a685bf803a61ab029232d990df5cc8c7e24c9f388"
   }
  }
 },
 "nbformat": 4,
 "nbformat_minor": 2
}
