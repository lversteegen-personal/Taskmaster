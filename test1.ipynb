{
 "cells": [
  {
   "cell_type": "markdown",
   "metadata": {},
   "source": [
    "#Only run this in colab\n",
    "from google.colab import drive\n",
    "drive.mount('/content/drive')\n",
    "%cd /content/drive/MyDrive/Github/Taskmaster\n",
    "import tensorflow as tf\n",
    "print(tf.__version__)\n",
    "print(tf.config.list_physical_devices('GPU'))"
   ]
  },
  {
   "cell_type": "code",
   "execution_count": 1,
   "metadata": {},
   "outputs": [
    {
     "name": "stdout",
     "output_type": "stream",
     "text": [
      "Finished step 0, 1 out of 1 remain open.\n",
      "Finished step 1, 0 out of 1 remain open.\n",
      "Finished step 2, 0 out of 1 remain open.\n",
      "Finished step 3, 0 out of 1 remain open.\n",
      "Epoch 1/3\n",
      "1/1 [==============================] - 1s 1s/step - loss: 0.8305 - eval_output_loss: 0.2500 - policy_output_loss: 0.0264\n",
      "Epoch 2/3\n",
      "1/1 [==============================] - 0s 3ms/step - loss: 0.7163 - eval_output_loss: 0.2148 - policy_output_loss: 0.0255\n",
      "Epoch 3/3\n",
      "1/1 [==============================] - 0s 5ms/step - loss: 0.6183 - eval_output_loss: 0.1850 - policy_output_loss: 0.0240\n"
     ]
    }
   ],
   "source": [
    "import small_rubics as rubics\n",
    "import numpy as np\n",
    "from student import student\n",
    "from classroom import classroom\n",
    "from teacher import teacher\n",
    "from small_rubics_neural_networks import student_network\n",
    "\n",
    "task = rubics.rubics_task\n",
    "setup = rubics.rubics_setup\n",
    "\n",
    "my_student_network = student_network.create(residual_layers = 2)\n",
    "student_template = student(task, 50,my_student_network)\n",
    "t = teacher(setup, 0)\n",
    "c = classroom(task, setup, t, student_template, n_students=1, max_steps=4)\n",
    "c.run_training_batch(n_problems=1,epochs_per_episode=3)\n"
   ]
  },
  {
   "cell_type": "code",
   "execution_count": 2,
   "metadata": {},
   "outputs": [
    {
     "name": "stdout",
     "output_type": "stream",
     "text": [
      "Network saved under models/model.keras.\n"
     ]
    }
   ],
   "source": [
    "my_student_network.save(\"models/model.keras\")"
   ]
  },
  {
   "cell_type": "code",
   "execution_count": null,
   "metadata": {},
   "outputs": [],
   "source": []
  },
  {
   "cell_type": "code",
   "execution_count": 2,
   "metadata": {},
   "outputs": [
    {
     "name": "stdout",
     "output_type": "stream",
     "text": [
      "Finished step 0, 100 out of 100 remain open.\n",
      "Finished step 1, 50 out of 100 remain open.\n",
      "Finished step 2, 50 out of 100 remain open.\n",
      "Finished step 3, 28 out of 100 remain open.\n",
      "15/15 [==============================] - 1s 3ms/step - loss: 0.5031 - eval_output_loss: 0.1271 - policy_output_loss: 0.0634\n",
      "Finished step 0, 100 out of 100 remain open.\n",
      "Finished step 1, 55 out of 100 remain open.\n",
      "Finished step 2, 55 out of 100 remain open.\n",
      "Finished step 3, 43 out of 100 remain open.\n",
      "16/16 [==============================] - 0s 3ms/step - loss: 0.5316 - eval_output_loss: 0.1373 - policy_output_loss: 0.0513\n",
      "Finished step 0, 100 out of 100 remain open.\n",
      "Finished step 1, 19 out of 100 remain open.\n",
      "Finished step 2, 19 out of 100 remain open.\n",
      "Finished step 3, 9 out of 100 remain open.\n",
      "10/10 [==============================] - 0s 3ms/step - loss: 1.3862 - eval_output_loss: 0.4239 - policy_output_loss: 0.0414\n",
      "Finished step 0, 100 out of 100 remain open.\n",
      "Finished step 1, 31 out of 100 remain open.\n",
      "Finished step 2, 31 out of 100 remain open.\n",
      "Finished step 3, 22 out of 100 remain open.\n",
      "12/12 [==============================] - 0s 3ms/step - loss: 0.9017 - eval_output_loss: 0.2642 - policy_output_loss: 0.0337\n",
      "Finished step 0, 100 out of 100 remain open.\n",
      "Finished step 1, 9 out of 100 remain open.\n",
      "Finished step 2, 9 out of 100 remain open.\n",
      "Finished step 3, 0 out of 100 remain open.\n",
      "8/8 [==============================] - 0s 3ms/step - loss: 1.9138 - eval_output_loss: 0.6034 - policy_output_loss: 0.0270\n"
     ]
    }
   ],
   "source": [
    "for i in range(5):\n",
    "    c.run_training_batch(n_problems=100,epochs_per_episode=3)"
   ]
  }
 ],
 "metadata": {
  "kernelspec": {
   "display_name": "Python 3.10.8 64-bit",
   "language": "python",
   "name": "python3"
  },
  "language_info": {
   "codemirror_mode": {
    "name": "ipython",
    "version": 3
   },
   "file_extension": ".py",
   "mimetype": "text/x-python",
   "name": "python",
   "nbconvert_exporter": "python",
   "pygments_lexer": "ipython3",
   "version": "3.10.8"
  },
  "orig_nbformat": 4,
  "vscode": {
   "interpreter": {
    "hash": "ea0df938a2fb4e996541c96a685bf803a61ab029232d990df5cc8c7e24c9f388"
   }
  }
 },
 "nbformat": 4,
 "nbformat_minor": 2
}
