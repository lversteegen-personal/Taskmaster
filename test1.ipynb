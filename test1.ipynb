{
 "cells": [
  {
   "cell_type": "code",
   "execution_count": null,
   "metadata": {},
   "outputs": [],
   "source": [
    "#Only run in colab\n",
    "from google.colab import drive\n",
    "drive.mount('/content/drive')\n",
    "%cd /content/drive/MyDrive/Github/Taskmaster\n",
    "!pip install tensorflow --upgrade\n",
    "import tensorflow as tf\n",
    "print(tf.__version__)\n",
    "print(tf.config.list_physical_devices('GPU'))"
   ]
  },
  {
   "cell_type": "code",
   "execution_count": 1,
   "metadata": {},
   "outputs": [
    {
     "name": "stdout",
     "output_type": "stream",
     "text": [
      "WARNING:tensorflow:From C:\\Users\\leove\\AppData\\Roaming\\Python\\Python310\\site-packages\\keras\\src\\losses.py:2976: The name tf.losses.sparse_softmax_cross_entropy is deprecated. Please use tf.compat.v1.losses.sparse_softmax_cross_entropy instead.\n",
      "\n",
      "WARNING:tensorflow:From C:\\Users\\leove\\AppData\\Roaming\\Python\\Python310\\site-packages\\keras\\src\\backend.py:1398: The name tf.executing_eagerly_outside_functions is deprecated. Please use tf.compat.v1.executing_eagerly_outside_functions instead.\n",
      "\n"
     ]
    }
   ],
   "source": [
    "import small_rubiks as rubiks\n",
    "import numpy as np\n",
    "from student import student\n",
    "from classroom import classroom\n",
    "from teacher import teacher\n",
    "from small_rubiks_neural_networks import student_network\n",
    "\n",
    "task = rubiks.rubiks_task\n",
    "setup = rubiks.rubiks_setup\n",
    "rng = np.random.default_rng(seed=0)\n",
    "\n",
    "#my_student_network = student_network.load(\"models/trained.h5\")\n",
    "my_student_network = student_network.create(residual_layers = 4)\n",
    "student_template = student(task, 50,my_student_network)\n",
    "t = teacher(setup, lambda n : 1+rng.poisson(lam=3,size=n))\n",
    "c = classroom(task, setup, t, student_template, n_students=1, max_steps=10)\n",
    "#c.run_training_batch(n_problems=1,epochs_per_episode=3)\n"
   ]
  },
  {
   "cell_type": "code",
   "execution_count": 2,
   "metadata": {},
   "outputs": [
    {
     "name": "stdout",
     "output_type": "stream",
     "text": [
      "Finished step 0, 1 out of 1 remain open.\n",
      "Finished step 1, 1 out of 1 remain open.\n",
      "Finished step 2, 1 out of 1 remain open.\n",
      "Finished step 3, 1 out of 1 remain open.\n",
      "Finished step 4, 1 out of 1 remain open.\n",
      "Finished step 5, 1 out of 1 remain open.\n",
      "Finished step 6, 1 out of 1 remain open.\n",
      "Finished step 7, 1 out of 1 remain open.\n",
      "Finished step 8, 1 out of 1 remain open.\n",
      "Finished step 9, 1 out of 1 remain open.\n"
     ]
    },
    {
     "ename": "AttributeError",
     "evalue": "'student_network' object has no attribute 'fit'",
     "output_type": "error",
     "traceback": [
      "\u001b[1;31m---------------------------------------------------------------------------\u001b[0m",
      "\u001b[1;31mAttributeError\u001b[0m                            Traceback (most recent call last)",
      "Cell \u001b[1;32mIn [2], line 2\u001b[0m\n\u001b[0;32m      1\u001b[0m \u001b[38;5;28;01mfor\u001b[39;00m i \u001b[38;5;129;01min\u001b[39;00m \u001b[38;5;28mrange\u001b[39m(\u001b[38;5;241m10\u001b[39m):\n\u001b[1;32m----> 2\u001b[0m     \u001b[43mc\u001b[49m\u001b[38;5;241;43m.\u001b[39;49m\u001b[43mrun_training_batch\u001b[49m\u001b[43m(\u001b[49m\u001b[43mn_problems\u001b[49m\u001b[38;5;241;43m=\u001b[39;49m\u001b[38;5;241;43m1\u001b[39;49m\u001b[43m,\u001b[49m\u001b[43mepochs_per_episode\u001b[49m\u001b[38;5;241;43m=\u001b[39;49m\u001b[38;5;241;43m3\u001b[39;49m\u001b[43m)\u001b[49m\n\u001b[0;32m      3\u001b[0m     \u001b[38;5;66;03m#if i % 10 == 0:\u001b[39;00m\n\u001b[0;32m      4\u001b[0m     \u001b[38;5;66;03m#    my_student_network.save(\"models/t.keras\")\u001b[39;00m\n",
      "File \u001b[1;32mc:\\Users\\leove\\OneDrive\\Documents\\Selberprogrammiertes\\Taskmaster\\classroom.py:57\u001b[0m, in \u001b[0;36mclassroom.run_training_batch\u001b[1;34m(self, n_problems, epochs_per_episode)\u001b[0m\n\u001b[0;32m     54\u001b[0m evals \u001b[39m=\u001b[39m np\u001b[39m.\u001b[39marray(evals)\n\u001b[0;32m     55\u001b[0m policies \u001b[39m=\u001b[39m np\u001b[39m.\u001b[39marray(policies)\n\u001b[1;32m---> 57\u001b[0m \u001b[39mself\u001b[39;49m\u001b[39m.\u001b[39;49mstudent\u001b[39m.\u001b[39;49mneural_network\u001b[39m.\u001b[39;49mfit(inputs,evals,policies,epochs_per_episode)\n",
      "\u001b[1;31mAttributeError\u001b[0m: 'student_network' object has no attribute 'fit'"
     ]
    }
   ],
   "source": [
    "for i in range(10):\n",
    "    c.run_training_batch(n_problems=1,epochs_per_episode=3)\n",
    "    #if i % 10 == 0:\n",
    "    #    my_student_network.save(\"models/t.keras\")"
   ]
  },
  {
   "cell_type": "code",
   "execution_count": 1,
   "metadata": {},
   "outputs": [
    {
     "name": "stdout",
     "output_type": "stream",
     "text": [
      "WARNING:tensorflow:From C:\\Users\\leove\\AppData\\Roaming\\Python\\Python310\\site-packages\\keras\\src\\losses.py:2976: The name tf.losses.sparse_softmax_cross_entropy is deprecated. Please use tf.compat.v1.losses.sparse_softmax_cross_entropy instead.\n",
      "\n",
      "WARNING:tensorflow:From C:\\Users\\leove\\AppData\\Roaming\\Python\\Python310\\site-packages\\keras\\src\\backend.py:1398: The name tf.executing_eagerly_outside_functions is deprecated. Please use tf.compat.v1.executing_eagerly_outside_functions instead.\n",
      "\n"
     ]
    }
   ],
   "source": [
    "from small_rubiks_neural_networks import student_network\n",
    "import numpy as np\n",
    "import small_rubiks as rubiks\n",
    "\n",
    "my_student_network = student_network()\n",
    "my_student_network.build_state_network(residual_layers=4)\n",
    "\n",
    "n=4096\n",
    "rng = np.random.default_rng(seed=0)\n",
    "states = np.arange(24)[None,:].repeat(n,axis=0)\n",
    "\n",
    "for k in range(15):\n",
    "    for i in range(30):\n",
    "        _, states = rubiks.task_action(states,rng.choice(a=12,size=n))\n",
    "\n",
    "    actions = rng.choice(12,size=n)\n",
    "    _, next_states = rubiks.task_action(states,actions)\n",
    "    my_student_network.fit_state(states,actions,next_states,epochs = 10)"
   ]
  },
  {
   "cell_type": "code",
   "execution_count": 8,
   "metadata": {},
   "outputs": [
    {
     "name": "stdout",
     "output_type": "stream",
     "text": [
      "  BY    \n",
      "  OO    \n",
      "RBWWGBOY\n",
      "GRGBWWGY\n",
      "  YR    \n",
      "  OR    \n",
      "\n",
      "  WY    \n",
      "  GO    \n",
      "BRYWGBOO\n",
      "RGOBWWGB\n",
      "  YR    \n",
      "  YR    \n",
      "\n",
      "  YY    \n",
      "  YO    \n",
      "GRBWGBOO\n",
      "RBOBWWGY\n",
      "  WR    \n",
      "  GR    \n",
      "\n",
      "  BW    \n",
      "  OB    \n",
      "RBWRWGOY\n",
      "GRGRWBYY\n",
      "  YG    \n",
      "  OO    \n",
      "\n",
      "  BG    \n",
      "  OO    \n",
      "RBWYBWRY\n",
      "GRGOGWRY\n",
      "  YW    \n",
      "  OB    \n",
      "\n",
      "  BY    \n",
      "  OO    \n",
      "RBWWGBOY\n",
      "GYGRGBWW\n",
      "  OY    \n",
      "  RR    \n",
      "\n",
      "  BY    \n",
      "  OO    \n",
      "RBWWGBOY\n",
      "GBWWGYGR\n",
      "  RR    \n",
      "  YO    \n",
      "\n",
      "  YO    \n",
      "  BO    \n",
      "OYRBWWGB\n",
      "GRGBWWGY\n",
      "  YR    \n",
      "  OR    \n",
      "\n",
      "  OB    \n",
      "  OY    \n",
      "WWGBOYRB\n",
      "GRGBWWGY\n",
      "  YR    \n",
      "  OR    \n",
      "\n",
      "  BY    \n",
      "  GW    \n",
      "ROWBRBOY\n",
      "GOWGYWGY\n",
      "  BR    \n",
      "  OR    \n",
      "\n",
      "  BY    \n",
      "  RB    \n",
      "RYGWOBOY\n",
      "GRBWOWGY\n",
      "  WG    \n",
      "  OR    \n",
      "\n",
      "  BW    \n",
      "  OO    \n",
      "YBWWGRGO\n",
      "BRGBWOYY\n",
      "  YR    \n",
      "  RG    \n",
      "\n",
      "  GR    \n",
      "  OO    \n",
      "OBWWGBYY\n",
      "RRGBWYOG\n",
      "  YR    \n",
      "  WB    \n",
      "\n"
     ]
    }
   ],
   "source": [
    "rubiks.print_coloring(states[0])\n",
    "for i in range(12):\n",
    "    rubiks.print_coloring(rubiks.task_action(states[0],i))"
   ]
  },
  {
   "cell_type": "code",
   "execution_count": 5,
   "metadata": {},
   "outputs": [
    {
     "name": "stdout",
     "output_type": "stream",
     "text": [
      "1/1 [==============================] - 0s 26ms/step\n"
     ]
    },
    {
     "data": {
      "text/plain": [
       "(array([[0, 1, 2, 0, 0, 5, 0, 5, 3, 0, 4, 3, 1, 2, 4, 1, 2, 5, 1, 5, 2, 1,\n",
       "         4, 3]], dtype=int64),\n",
       " array([0, 5, 2, 0, 5, 3, 0, 4, 2, 0, 4, 3, 1, 2, 4, 1, 2, 5, 1, 3, 4, 1,\n",
       "        3, 5]))"
      ]
     },
     "execution_count": 5,
     "metadata": {},
     "output_type": "execute_result"
    }
   ],
   "source": [
    "states = np.arange(24)[None,:]\n",
    "actions = np.array([0])\n",
    "prediction = my_student_network.predict_state(states,actions)\n",
    "prediction.reshape(1,24,6).argmax(axis=2), rubiks.start_coloring[rubiks.task_action(states,actions)[1][0]]"
   ]
  }
 ],
 "metadata": {
  "kernelspec": {
   "display_name": "Python 3.10.8 64-bit",
   "language": "python",
   "name": "python3"
  },
  "language_info": {
   "codemirror_mode": {
    "name": "ipython",
    "version": 3
   },
   "file_extension": ".py",
   "mimetype": "text/x-python",
   "name": "python",
   "nbconvert_exporter": "python",
   "pygments_lexer": "ipython3",
   "version": "3.10.8"
  },
  "orig_nbformat": 4,
  "vscode": {
   "interpreter": {
    "hash": "ea0df938a2fb4e996541c96a685bf803a61ab029232d990df5cc8c7e24c9f388"
   }
  }
 },
 "nbformat": 4,
 "nbformat_minor": 2
}
