{
 "cells": [
  {
   "cell_type": "markdown",
   "metadata": {},
   "source": [
    "#Only run this in colab\n",
    "from google.colab import drive\n",
    "drive.mount('/content/drive')\n",
    "%cd /content/drive/MyDrive/Github/Taskmaster\n",
    "import tensorflow as tf\n",
    "print(tf.__version__)\n",
    "print(tf.config.list_physical_devices('GPU'))"
   ]
  },
  {
   "cell_type": "code",
   "execution_count": 1,
   "metadata": {},
   "outputs": [
    {
     "name": "stdout",
     "output_type": "stream",
     "text": [
      "Finished step 0, 1 out of 1 remain open.\n",
      "Finished step 1, 1 out of 1 remain open.\n",
      "Finished step 2, 1 out of 1 remain open.\n",
      "Finished step 3, 1 out of 1 remain open.\n",
      "Epoch 1/3\n",
      "1/1 [==============================] - 1s 1s/step - loss: 0.8539 - eval_output_loss: 0.2342 - policy_output_loss: 0.0975\n",
      "Epoch 2/3\n",
      "1/1 [==============================] - 0s 5ms/step - loss: 0.5444 - eval_output_loss: 0.1437 - policy_output_loss: 0.0602\n",
      "Epoch 3/3\n",
      "1/1 [==============================] - 0s 5ms/step - loss: 0.1229 - eval_output_loss: 0.0100 - policy_output_loss: 0.0399\n"
     ]
    }
   ],
   "source": [
    "import small_rubics as rubics\n",
    "import numpy as np\n",
    "from student import student\n",
    "from classroom import classroom\n",
    "from teacher import teacher\n",
    "from small_rubics_neural_networks import student_network\n",
    "\n",
    "task = rubics.rubics_task\n",
    "setup = rubics.rubics_setup\n",
    "\n",
    "my_student_network = student_network.create(residual_layers = 2)\n",
    "student_template = student(task, 50,my_student_network)\n",
    "t = teacher(setup, 0)\n",
    "c = classroom(task, setup, t, student_template, n_students=1, max_steps=4)\n",
    "c.run_training_batch(n_problems=1,epochs_per_episode=3)\n"
   ]
  },
  {
   "cell_type": "code",
   "execution_count": 10,
   "metadata": {},
   "outputs": [
    {
     "name": "stdout",
     "output_type": "stream",
     "text": [
      "Network saved under models/model.keras.\n"
     ]
    }
   ],
   "source": [
    "my_student_network.save(\"models/model.keras\")"
   ]
  },
  {
   "cell_type": "code",
   "execution_count": 11,
   "metadata": {},
   "outputs": [],
   "source": [
    "my_student_network = student_network.load(\"models/model.keras\")"
   ]
  },
  {
   "cell_type": "code",
   "execution_count": 13,
   "metadata": {},
   "outputs": [
    {
     "name": "stdout",
     "output_type": "stream",
     "text": [
      "Finished step 0, 100 out of 100 remain open.\n",
      "Finished step 1, 13 out of 100 remain open.\n",
      "Finished step 2, 13 out of 100 remain open.\n",
      "Finished step 3, 0 out of 100 remain open.\n",
      "Epoch 1/3\n",
      "8/8 [==============================] - 0s 4ms/step - loss: 1.5442 - eval_output_loss: 0.4665 - policy_output_loss: 0.0491\n",
      "Epoch 2/3\n",
      "8/8 [==============================] - 0s 4ms/step - loss: 1.2373 - eval_output_loss: 0.3679 - policy_output_loss: 0.0378\n",
      "Epoch 3/3\n",
      "8/8 [==============================] - 0s 3ms/step - loss: 0.8916 - eval_output_loss: 0.2511 - policy_output_loss: 0.0423\n",
      "Finished step 0, 100 out of 100 remain open.\n",
      "Finished step 1, 21 out of 100 remain open.\n",
      "Finished step 2, 21 out of 100 remain open.\n",
      "Finished step 3, 21 out of 100 remain open.\n",
      "Epoch 1/3\n",
      "11/11 [==============================] - 0s 3ms/step - loss: 1.2398 - eval_output_loss: 0.3634 - policy_output_loss: 0.0530\n",
      "Epoch 2/3\n",
      "11/11 [==============================] - 0s 3ms/step - loss: 0.6110 - eval_output_loss: 0.1500 - policy_output_loss: 0.0624\n",
      "Epoch 3/3\n",
      "11/11 [==============================] - 0s 3ms/step - loss: 0.4206 - eval_output_loss: 0.0946 - policy_output_loss: 0.0361\n",
      "Finished step 0, 100 out of 100 remain open.\n",
      "Finished step 1, 17 out of 100 remain open.\n",
      "Finished step 2, 17 out of 100 remain open.\n",
      "Finished step 3, 10 out of 100 remain open.\n",
      "Epoch 1/3\n",
      "9/9 [==============================] - 0s 4ms/step - loss: 0.7954 - eval_output_loss: 0.2145 - policy_output_loss: 0.0501\n",
      "Epoch 2/3\n",
      "9/9 [==============================] - 0s 4ms/step - loss: 0.6197 - eval_output_loss: 0.1620 - policy_output_loss: 0.0317\n",
      "Epoch 3/3\n",
      "9/9 [==============================] - 0s 4ms/step - loss: 0.5888 - eval_output_loss: 0.1550 - policy_output_loss: 0.0224\n",
      "Finished step 0, 100 out of 100 remain open.\n",
      "Finished step 1, 3 out of 100 remain open.\n",
      "Finished step 2, 3 out of 100 remain open.\n",
      "Finished step 3, 0 out of 100 remain open.\n",
      "Epoch 1/3\n",
      "7/7 [==============================] - 0s 3ms/step - loss: 1.1009 - eval_output_loss: 0.3243 - policy_output_loss: 0.0270\n",
      "Epoch 2/3\n",
      "7/7 [==============================] - 0s 3ms/step - loss: 0.9938 - eval_output_loss: 0.2889 - policy_output_loss: 0.0267\n",
      "Epoch 3/3\n",
      "7/7 [==============================] - 0s 4ms/step - loss: 0.8245 - eval_output_loss: 0.2310 - policy_output_loss: 0.0315\n",
      "Finished step 0, 100 out of 100 remain open.\n",
      "Finished step 1, 27 out of 100 remain open.\n",
      "Finished step 2, 27 out of 100 remain open.\n",
      "Finished step 3, 18 out of 100 remain open.\n",
      "Epoch 1/3\n",
      "11/11 [==============================] - 0s 3ms/step - loss: 0.9068 - eval_output_loss: 0.2597 - policy_output_loss: 0.0278\n",
      "Epoch 2/3\n",
      "11/11 [==============================] - 0s 3ms/step - loss: 0.5022 - eval_output_loss: 0.1230 - policy_output_loss: 0.0332\n",
      "Epoch 3/3\n",
      "11/11 [==============================] - 0s 3ms/step - loss: 0.2157 - eval_output_loss: 0.0275 - policy_output_loss: 0.0334\n",
      "Finished step 0, 100 out of 100 remain open.\n",
      "Finished step 1, 17 out of 100 remain open.\n",
      "Finished step 2, 17 out of 100 remain open.\n",
      "Finished step 3, 0 out of 100 remain open.\n",
      "Epoch 1/3\n",
      "9/9 [==============================] - 0s 4ms/step - loss: 0.6400 - eval_output_loss: 0.1662 - policy_output_loss: 0.0419\n",
      "Epoch 2/3\n",
      "9/9 [==============================] - 0s 4ms/step - loss: 0.4121 - eval_output_loss: 0.0923 - policy_output_loss: 0.0359\n",
      "Epoch 3/3\n",
      "9/9 [==============================] - 0s 3ms/step - loss: 0.2280 - eval_output_loss: 0.0321 - policy_output_loss: 0.0325\n",
      "Finished step 0, 100 out of 100 remain open.\n",
      "Finished step 1, 24 out of 100 remain open.\n",
      "Finished step 2, 24 out of 100 remain open.\n",
      "Finished step 3, 5 out of 100 remain open.\n",
      "Epoch 1/3\n",
      "10/10 [==============================] - 0s 3ms/step - loss: 0.4460 - eval_output_loss: 0.1035 - policy_output_loss: 0.0366\n",
      "Epoch 2/3\n",
      "10/10 [==============================] - 0s 3ms/step - loss: 0.2492 - eval_output_loss: 0.0416 - policy_output_loss: 0.0258\n",
      "Epoch 3/3\n",
      "10/10 [==============================] - 0s 3ms/step - loss: 0.2151 - eval_output_loss: 0.0315 - policy_output_loss: 0.0226\n",
      "Finished step 0, 100 out of 100 remain open.\n",
      "Finished step 1, 10 out of 100 remain open.\n",
      "Finished step 2, 10 out of 100 remain open.\n",
      "Finished step 3, 0 out of 100 remain open.\n",
      "Epoch 1/3\n",
      "8/8 [==============================] - 0s 4ms/step - loss: 0.3070 - eval_output_loss: 0.0645 - policy_output_loss: 0.0160\n",
      "Epoch 2/3\n",
      "8/8 [==============================] - 0s 4ms/step - loss: 0.1954 - eval_output_loss: 0.0273 - policy_output_loss: 0.0166\n",
      "Epoch 3/3\n",
      "8/8 [==============================] - 0s 3ms/step - loss: 0.1437 - eval_output_loss: 0.0117 - policy_output_loss: 0.0120\n",
      "Finished step 0, 100 out of 100 remain open.\n",
      "Finished step 1, 18 out of 100 remain open.\n",
      "Finished step 2, 18 out of 100 remain open.\n",
      "Finished step 3, 0 out of 100 remain open.\n",
      "Epoch 1/3\n",
      "9/9 [==============================] - 0s 3ms/step - loss: 0.1401 - eval_output_loss: 0.0102 - policy_output_loss: 0.0136\n",
      "Epoch 2/3\n",
      "9/9 [==============================] - 0s 3ms/step - loss: 0.1224 - eval_output_loss: 0.0062 - policy_output_loss: 0.0086\n",
      "Epoch 3/3\n",
      "9/9 [==============================] - 0s 3ms/step - loss: 0.1285 - eval_output_loss: 0.0088 - policy_output_loss: 0.0077\n",
      "Finished step 0, 100 out of 100 remain open.\n",
      "Finished step 1, 21 out of 100 remain open.\n",
      "Finished step 2, 21 out of 100 remain open.\n",
      "Finished step 3, 11 out of 100 remain open.\n",
      "Epoch 1/3\n",
      "10/10 [==============================] - 0s 3ms/step - loss: 0.6677 - eval_output_loss: 0.1846 - policy_output_loss: 0.0207\n",
      "Epoch 2/3\n",
      "10/10 [==============================] - 0s 3ms/step - loss: 0.3768 - eval_output_loss: 0.0878 - policy_output_loss: 0.0209\n",
      "Epoch 3/3\n",
      "10/10 [==============================] - 0s 3ms/step - loss: 0.2410 - eval_output_loss: 0.0426 - policy_output_loss: 0.0210\n"
     ]
    }
   ],
   "source": [
    "for i in range(10):\n",
    "    c.run_training_batch(n_problems=100,epochs_per_episode=3)\n",
    "    if i % 10 == 0:\n",
    "        my_student_network.save(\"models/model.keras\")"
   ]
  }
 ],
 "metadata": {
  "kernelspec": {
   "display_name": "Python 3.10.8 64-bit",
   "language": "python",
   "name": "python3"
  },
  "language_info": {
   "codemirror_mode": {
    "name": "ipython",
    "version": 3
   },
   "file_extension": ".py",
   "mimetype": "text/x-python",
   "name": "python",
   "nbconvert_exporter": "python",
   "pygments_lexer": "ipython3",
   "version": "3.10.8"
  },
  "orig_nbformat": 4,
  "vscode": {
   "interpreter": {
    "hash": "ea0df938a2fb4e996541c96a685bf803a61ab029232d990df5cc8c7e24c9f388"
   }
  }
 },
 "nbformat": 4,
 "nbformat_minor": 2
}
