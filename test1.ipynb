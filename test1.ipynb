{
 "cells": [
  {
   "cell_type": "code",
   "execution_count": null,
   "metadata": {},
   "outputs": [],
   "source": [
    "#Only run this in colab\n",
    "from google.colab import drive\n",
    "drive.mount('/content/drive')\n",
    "%cd /content/drive/MyDrive/Github/Dimension\n",
    "import tensorflow as tf\n",
    "print(tf.__version__)\n",
    "print(tf.config.list_physical_devices('GPU'))"
   ]
  },
  {
   "cell_type": "code",
   "execution_count": 1,
   "metadata": {},
   "outputs": [
    {
     "name": "stdout",
     "output_type": "stream",
     "text": [
      "Finished step 0, 48 out of 50 remain open.\n",
      "Finished step 1, 43 out of 50 remain open.\n",
      "Finished step 2, 43 out of 50 remain open.\n",
      "Finished step 3, 43 out of 50 remain open.\n",
      "Finished step 4, 43 out of 50 remain open.\n",
      "Finished step 5, 43 out of 50 remain open.\n",
      "Finished step 6, 43 out of 50 remain open.\n",
      "Finished step 7, 43 out of 50 remain open.\n",
      "Finished step 8, 43 out of 50 remain open.\n",
      "Finished step 9, 43 out of 50 remain open.\n",
      "Epoch 1/3\n",
      "14/14 [==============================] - 2s 6ms/step - loss: 108.1565 - eval_output_loss: 6.7721e-04 - policy_output_loss: 2.2841\n",
      "Epoch 2/3\n",
      "14/14 [==============================] - 0s 7ms/step - loss: 81.9383 - eval_output_loss: 3.2554e-05 - policy_output_loss: 0.8273\n",
      "Epoch 3/3\n",
      "14/14 [==============================] - 0s 6ms/step - loss: 47.9552 - eval_output_loss: 1.4527e-05 - policy_output_loss: 0.4377\n"
     ]
    }
   ],
   "source": [
    "import rubics\n",
    "import numpy as np\n",
    "from student import student\n",
    "from classroom import classroom\n",
    "from teacher import teacher\n",
    "from rubics_neural_networks import student_network\n",
    "\n",
    "task = rubics.rubics_task\n",
    "setup = rubics.rubics_setup\n",
    "\n",
    "student_network = student_network()\n",
    "student_template = student(task, 40,student_network)\n",
    "t = teacher(setup)\n",
    "c = classroom(task, setup, t, student_template, n_students=1, max_steps=10)\n",
    "c.run_training_batch(100)\n"
   ]
  },
  {
   "cell_type": "code",
   "execution_count": 3,
   "metadata": {},
   "outputs": [
    {
     "name": "stdout",
     "output_type": "stream",
     "text": [
      "Finished step 0, 47 out of 50 remain open.\n",
      "Finished step 1, 36 out of 50 remain open.\n",
      "Finished step 2, 34 out of 50 remain open.\n",
      "Finished step 3, 33 out of 50 remain open.\n",
      "Finished step 4, 33 out of 50 remain open.\n",
      "Finished step 5, 33 out of 50 remain open.\n",
      "Finished step 6, 33 out of 50 remain open.\n",
      "Finished step 7, 33 out of 50 remain open.\n",
      "WARNING:tensorflow:Tensor._shape is private, use Tensor.shape instead. Tensor._shape will eventually be removed.\n",
      "WARNING:tensorflow:Tensor._shape is private, use Tensor.shape instead. Tensor._shape will eventually be removed.\n",
      "WARNING:tensorflow:Tensor._shape is private, use Tensor.shape instead. Tensor._shape will eventually be removed.\n",
      "Finished step 8, 33 out of 50 remain open.\n",
      "Finished step 9, 33 out of 50 remain open.\n",
      "Finished step 10, 33 out of 50 remain open.\n",
      "Finished step 11, 33 out of 50 remain open.\n",
      "Finished step 12, 33 out of 50 remain open.\n",
      "Finished step 13, 33 out of 50 remain open.\n",
      "Finished step 14, 33 out of 50 remain open.\n",
      "Epoch 1/3\n",
      "17/17 [==============================] - 0s 7ms/step - loss: 5.0745 - eval_output_loss: 0.0017 - policy_output_loss: 0.1920\n",
      "Epoch 2/3\n",
      "17/17 [==============================] - 0s 7ms/step - loss: 4.4937 - eval_output_loss: 1.8616e-04 - policy_output_loss: 0.1612\n",
      "Epoch 3/3\n",
      "17/17 [==============================] - 0s 7ms/step - loss: 4.3541 - eval_output_loss: 2.0482e-04 - policy_output_loss: 0.1530\n",
      "Finished step 0, 43 out of 50 remain open.\n",
      "Finished step 1, 36 out of 50 remain open.\n",
      "Finished step 2, 34 out of 50 remain open.\n",
      "Finished step 3, 34 out of 50 remain open.\n",
      "Finished step 4, 34 out of 50 remain open.\n",
      "Finished step 5, 33 out of 50 remain open.\n",
      "Finished step 6, 33 out of 50 remain open.\n",
      "Finished step 7, 33 out of 50 remain open.\n",
      "Finished step 8, 33 out of 50 remain open.\n",
      "Finished step 9, 33 out of 50 remain open.\n",
      "Finished step 10, 33 out of 50 remain open.\n",
      "Finished step 11, 33 out of 50 remain open.\n",
      "Finished step 12, 33 out of 50 remain open.\n",
      "Finished step 13, 33 out of 50 remain open.\n",
      "Finished step 14, 33 out of 50 remain open.\n",
      "Epoch 1/3\n",
      "16/16 [==============================] - 0s 7ms/step - loss: 3.8089 - eval_output_loss: 1.1600e-04 - policy_output_loss: 0.1674\n",
      "Epoch 2/3\n",
      "16/16 [==============================] - 0s 7ms/step - loss: 3.1419 - eval_output_loss: 1.2300e-04 - policy_output_loss: 0.1364\n",
      "Epoch 3/3\n",
      "16/16 [==============================] - 0s 7ms/step - loss: 2.8146 - eval_output_loss: 1.1231e-04 - policy_output_loss: 0.1279\n",
      "Finished step 0, 47 out of 50 remain open.\n",
      "Finished step 1, 44 out of 50 remain open.\n",
      "Finished step 2, 42 out of 50 remain open.\n",
      "Finished step 3, 41 out of 50 remain open.\n",
      "Finished step 4, 41 out of 50 remain open.\n",
      "Finished step 5, 41 out of 50 remain open.\n",
      "Finished step 6, 41 out of 50 remain open.\n",
      "Finished step 7, 41 out of 50 remain open.\n",
      "Finished step 8, 41 out of 50 remain open.\n",
      "Finished step 9, 41 out of 50 remain open.\n",
      "Finished step 10, 41 out of 50 remain open.\n",
      "Finished step 11, 41 out of 50 remain open.\n",
      "Finished step 12, 41 out of 50 remain open.\n",
      "Finished step 13, 41 out of 50 remain open.\n",
      "Finished step 14, 41 out of 50 remain open.\n",
      "Epoch 1/3\n",
      "20/20 [==============================] - 0s 7ms/step - loss: 2.8791 - eval_output_loss: 1.6636e-05 - policy_output_loss: 0.1866\n",
      "Epoch 2/3\n",
      "20/20 [==============================] - 0s 7ms/step - loss: 2.5611 - eval_output_loss: 5.2548e-05 - policy_output_loss: 0.1731\n",
      "Epoch 3/3\n",
      "20/20 [==============================] - 0s 7ms/step - loss: 2.2014 - eval_output_loss: 4.4394e-05 - policy_output_loss: 0.1616\n"
     ]
    }
   ],
   "source": [
    "for i in range(3):\n",
    "    c.run_training_batch(50)"
   ]
  }
 ],
 "metadata": {
  "kernelspec": {
   "display_name": "Python 3.10.8 64-bit",
   "language": "python",
   "name": "python3"
  },
  "language_info": {
   "codemirror_mode": {
    "name": "ipython",
    "version": 3
   },
   "file_extension": ".py",
   "mimetype": "text/x-python",
   "name": "python",
   "nbconvert_exporter": "python",
   "pygments_lexer": "ipython3",
   "version": "3.10.8"
  },
  "orig_nbformat": 4,
  "vscode": {
   "interpreter": {
    "hash": "ea0df938a2fb4e996541c96a685bf803a61ab029232d990df5cc8c7e24c9f388"
   }
  }
 },
 "nbformat": 4,
 "nbformat_minor": 2
}
