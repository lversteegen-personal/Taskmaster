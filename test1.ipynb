{
 "cells": [
  {
   "cell_type": "markdown",
   "metadata": {},
   "source": [
    "#Only run this in colab\n",
    "from google.colab import drive\n",
    "drive.mount('/content/drive')\n",
    "%cd /content/drive/MyDrive/Github/Taskmaster\n",
    "import tensorflow as tf\n",
    "print(tf.__version__)\n",
    "print(tf.config.list_physical_devices('GPU'))"
   ]
  },
  {
   "cell_type": "code",
   "execution_count": 1,
   "metadata": {},
   "outputs": [
    {
     "name": "stdout",
     "output_type": "stream",
     "text": [
      "Finished step 0, 1 out of 1 remain open.\n",
      "Finished step 1, 1 out of 1 remain open.\n",
      "Finished step 2, 1 out of 1 remain open.\n",
      "Finished step 3, 1 out of 1 remain open.\n",
      "1/1 [==============================] - 1s 600ms/step - loss: 0.9421 - eval_output_loss: 0.2823 - policy_output_loss: 0.0810\n"
     ]
    }
   ],
   "source": [
    "import small_rubics as rubics\n",
    "import numpy as np\n",
    "from student import student\n",
    "from classroom import classroom\n",
    "from teacher import teacher\n",
    "from small_rubics_neural_networks import student_network\n",
    "\n",
    "task = rubics.rubics_task\n",
    "setup = rubics.rubics_setup\n",
    "\n",
    "student_network = student_network()\n",
    "student_template = student(task, 40,student_network)\n",
    "t = teacher(setup)\n",
    "c = classroom(task, setup, t, student_template, n_students=1, max_steps=4)\n",
    "c.run_training_batch(1)\n"
   ]
  },
  {
   "cell_type": "code",
   "execution_count": 5,
   "metadata": {},
   "outputs": [
    {
     "name": "stdout",
     "output_type": "stream",
     "text": [
      "  BB    \n",
      "  OO    \n",
      "RBWWGOYY\n",
      "RBWWGOYY\n",
      "  RR    \n",
      "  GG    \n",
      "\n",
      "Finished step 0, 1 out of 1 remain open.\n",
      "Finished step 1, 0 out of 1 remain open.\n",
      "Finished step 2, 0 out of 1 remain open.\n",
      "Finished step 3, 0 out of 1 remain open.\n",
      "1/1 [==============================] - 0s 7ms/step - loss: 0.1690 - eval_output_loss: 1.6078e-04 - policy_output_loss: 0.1270\n",
      "Finished step 0, 1 out of 1 remain open.\n",
      "Finished step 1, 0 out of 1 remain open.\n",
      "Finished step 2, 0 out of 1 remain open.\n",
      "Finished step 3, 0 out of 1 remain open.\n",
      "1/1 [==============================] - 0s 5ms/step - loss: 0.1658 - eval_output_loss: 1.5557e-04 - policy_output_loss: 0.1239\n",
      "Finished step 0, 1 out of 1 remain open.\n",
      "Finished step 1, 0 out of 1 remain open.\n",
      "Finished step 2, 0 out of 1 remain open.\n",
      "Finished step 3, 0 out of 1 remain open.\n",
      "1/1 [==============================] - 0s 5ms/step - loss: 0.1616 - eval_output_loss: 1.5106e-04 - policy_output_loss: 0.1199\n",
      "Finished step 0, 1 out of 1 remain open.\n",
      "Finished step 1, 0 out of 1 remain open.\n",
      "Finished step 2, 0 out of 1 remain open.\n",
      "Finished step 3, 0 out of 1 remain open.\n",
      "1/1 [==============================] - 0s 5ms/step - loss: 0.2081 - eval_output_loss: 1.4701e-04 - policy_output_loss: 0.1664\n",
      "Finished step 0, 1 out of 1 remain open.\n",
      "Finished step 1, 0 out of 1 remain open.\n",
      "Finished step 2, 0 out of 1 remain open.\n",
      "Finished step 3, 0 out of 1 remain open.\n",
      "1/1 [==============================] - 0s 6ms/step - loss: 0.1504 - eval_output_loss: 1.4378e-04 - policy_output_loss: 0.1088\n",
      "Finished step 0, 1 out of 1 remain open.\n",
      "Finished step 1, 0 out of 1 remain open.\n",
      "Finished step 2, 0 out of 1 remain open.\n",
      "Finished step 3, 0 out of 1 remain open.\n",
      "1/1 [==============================] - 0s 6ms/step - loss: 0.1704 - eval_output_loss: 1.4107e-04 - policy_output_loss: 0.1290\n",
      "Finished step 0, 1 out of 1 remain open.\n",
      "Finished step 1, 0 out of 1 remain open.\n",
      "Finished step 2, 0 out of 1 remain open.\n",
      "Finished step 3, 0 out of 1 remain open.\n",
      "1/1 [==============================] - 0s 7ms/step - loss: 0.2252 - eval_output_loss: 1.3860e-04 - policy_output_loss: 0.1838\n",
      "Finished step 0, 1 out of 1 remain open.\n",
      "Finished step 1, 0 out of 1 remain open.\n",
      "Finished step 2, 0 out of 1 remain open.\n",
      "Finished step 3, 0 out of 1 remain open.\n",
      "1/1 [==============================] - 0s 5ms/step - loss: 0.1696 - eval_output_loss: 1.3652e-04 - policy_output_loss: 0.1283\n",
      "Finished step 0, 1 out of 1 remain open.\n",
      "Finished step 1, 0 out of 1 remain open.\n",
      "Finished step 2, 0 out of 1 remain open.\n",
      "Finished step 3, 0 out of 1 remain open.\n",
      "1/1 [==============================] - 0s 6ms/step - loss: 0.1968 - eval_output_loss: 1.3460e-04 - policy_output_loss: 0.1556\n",
      "Finished step 0, 1 out of 1 remain open.\n",
      "Finished step 1, 0 out of 1 remain open.\n",
      "Finished step 2, 0 out of 1 remain open.\n",
      "Finished step 3, 0 out of 1 remain open.\n",
      "1/1 [==============================] - 0s 6ms/step - loss: 0.1591 - eval_output_loss: 1.3299e-04 - policy_output_loss: 0.1180\n",
      "Finished step 0, 1 out of 1 remain open.\n",
      "Finished step 1, 0 out of 1 remain open.\n",
      "Finished step 2, 0 out of 1 remain open.\n",
      "Finished step 3, 0 out of 1 remain open.\n",
      "1/1 [==============================] - 0s 7ms/step - loss: 0.1512 - eval_output_loss: 1.3175e-04 - policy_output_loss: 0.1102\n",
      "Finished step 0, 1 out of 1 remain open.\n",
      "Finished step 1, 0 out of 1 remain open.\n",
      "Finished step 2, 0 out of 1 remain open.\n",
      "Finished step 3, 0 out of 1 remain open.\n",
      "1/1 [==============================] - 0s 7ms/step - loss: 0.1871 - eval_output_loss: 1.3055e-04 - policy_output_loss: 0.1463\n",
      "Finished step 0, 1 out of 1 remain open.\n",
      "Finished step 1, 0 out of 1 remain open.\n",
      "Finished step 2, 0 out of 1 remain open.\n",
      "Finished step 3, 0 out of 1 remain open.\n",
      "1/1 [==============================] - 0s 5ms/step - loss: 0.1363 - eval_output_loss: 1.2978e-04 - policy_output_loss: 0.0955\n",
      "Finished step 0, 1 out of 1 remain open.\n",
      "Finished step 1, 0 out of 1 remain open.\n",
      "Finished step 2, 0 out of 1 remain open.\n",
      "Finished step 3, 0 out of 1 remain open.\n",
      "1/1 [==============================] - 0s 5ms/step - loss: 0.1610 - eval_output_loss: 1.2890e-04 - policy_output_loss: 0.1204\n",
      "Finished step 0, 1 out of 1 remain open.\n",
      "Finished step 1, 0 out of 1 remain open.\n",
      "Finished step 2, 0 out of 1 remain open.\n",
      "Finished step 3, 0 out of 1 remain open.\n",
      "1/1 [==============================] - 0s 6ms/step - loss: 0.1752 - eval_output_loss: 1.2837e-04 - policy_output_loss: 0.1347\n",
      "Finished step 0, 1 out of 1 remain open.\n",
      "Finished step 1, 0 out of 1 remain open.\n",
      "Finished step 2, 0 out of 1 remain open.\n",
      "Finished step 3, 0 out of 1 remain open.\n",
      "1/1 [==============================] - 0s 6ms/step - loss: 0.1730 - eval_output_loss: 1.2798e-04 - policy_output_loss: 0.1326\n",
      "Finished step 0, 1 out of 1 remain open.\n",
      "Finished step 1, 0 out of 1 remain open.\n",
      "Finished step 2, 0 out of 1 remain open.\n",
      "Finished step 3, 0 out of 1 remain open.\n",
      "1/1 [==============================] - 0s 5ms/step - loss: 0.1349 - eval_output_loss: 1.2791e-04 - policy_output_loss: 0.0946\n",
      "Finished step 0, 1 out of 1 remain open.\n",
      "Finished step 1, 0 out of 1 remain open.\n",
      "Finished step 2, 0 out of 1 remain open.\n",
      "Finished step 3, 0 out of 1 remain open.\n",
      "1/1 [==============================] - 0s 6ms/step - loss: 0.1322 - eval_output_loss: 1.2759e-04 - policy_output_loss: 0.0919\n",
      "Finished step 0, 1 out of 1 remain open.\n",
      "Finished step 1, 0 out of 1 remain open.\n",
      "Finished step 2, 0 out of 1 remain open.\n",
      "Finished step 3, 0 out of 1 remain open.\n",
      "1/1 [==============================] - 0s 5ms/step - loss: 0.1371 - eval_output_loss: 1.2744e-04 - policy_output_loss: 0.0970\n",
      "Finished step 0, 1 out of 1 remain open.\n",
      "Finished step 1, 0 out of 1 remain open.\n",
      "Finished step 2, 0 out of 1 remain open.\n",
      "Finished step 3, 0 out of 1 remain open.\n",
      "1/1 [==============================] - 0s 6ms/step - loss: 0.2027 - eval_output_loss: 1.2703e-04 - policy_output_loss: 0.1626\n"
     ]
    }
   ],
   "source": [
    "for i in range(20):\n",
    "    c.run_training_batch(1)"
   ]
  }
 ],
 "metadata": {
  "kernelspec": {
   "display_name": "Python 3.10.8 64-bit",
   "language": "python",
   "name": "python3"
  },
  "language_info": {
   "codemirror_mode": {
    "name": "ipython",
    "version": 3
   },
   "file_extension": ".py",
   "mimetype": "text/x-python",
   "name": "python",
   "nbconvert_exporter": "python",
   "pygments_lexer": "ipython3",
   "version": "3.10.8"
  },
  "orig_nbformat": 4,
  "vscode": {
   "interpreter": {
    "hash": "ea0df938a2fb4e996541c96a685bf803a61ab029232d990df5cc8c7e24c9f388"
   }
  }
 },
 "nbformat": 4,
 "nbformat_minor": 2
}
