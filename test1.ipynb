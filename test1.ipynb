{
 "cells": [
  {
   "cell_type": "code",
   "execution_count": null,
   "metadata": {},
   "outputs": [],
   "source": [
    "#Only run in colab\n",
    "from google.colab import drive\n",
    "drive.mount('/content/drive')\n",
    "%cd /content/drive/MyDrive/Github/Taskmaster\n",
    "!pip install tensorflow --upgrade\n",
    "import tensorflow as tf\n",
    "print(tf.__version__)\n",
    "print(tf.config.list_physical_devices('GPU'))"
   ]
  },
  {
   "cell_type": "code",
   "execution_count": 1,
   "metadata": {},
   "outputs": [
    {
     "name": "stdout",
     "output_type": "stream",
     "text": [
      "WARNING:tensorflow:From C:\\Users\\leove\\AppData\\Roaming\\Python\\Python310\\site-packages\\keras\\src\\losses.py:2976: The name tf.losses.sparse_softmax_cross_entropy is deprecated. Please use tf.compat.v1.losses.sparse_softmax_cross_entropy instead.\n",
      "\n",
      "WARNING:tensorflow:From C:\\Users\\leove\\AppData\\Roaming\\Python\\Python310\\site-packages\\keras\\src\\backend.py:1398: The name tf.executing_eagerly_outside_functions is deprecated. Please use tf.compat.v1.executing_eagerly_outside_functions instead.\n",
      "\n"
     ]
    }
   ],
   "source": [
    "import small_rubiks as rubiks\n",
    "import numpy as np\n",
    "from student import student\n",
    "from classroom import classroom\n",
    "from teacher import teacher\n",
    "from small_rubiks_neural_networks import student_network\n",
    "\n",
    "task = rubiks.rubiks_task\n",
    "setup = rubiks.rubiks_setup\n",
    "rng = np.random.default_rng(seed=0)\n",
    "\n",
    "my_student_network = student_network.load(\"models/trained.h5\")\n",
    "#my_student_network = student_network.create(residual_layers = 4)\n",
    "student_template = student(task, 50,my_student_network)\n",
    "t = teacher(setup, lambda n : 1+rng.poisson(lam=3,size=n))\n",
    "c = classroom(task, setup, t, student_template, n_students=1, max_steps=10)\n",
    "#c.run_training_batch(n_problems=1,epochs_per_episode=3)\n"
   ]
  },
  {
   "cell_type": "code",
   "execution_count": 3,
   "metadata": {},
   "outputs": [
    {
     "name": "stdout",
     "output_type": "stream",
     "text": [
      "  OB    \n",
      "  YB    \n",
      "WOGOYYRB\n",
      "WOGYRRWB\n",
      "  WG    \n",
      "  RG    \n",
      "\n",
      "  OO    \n",
      "  OO    \n",
      "WWGGYYBB\n",
      "WWGGYYBB\n",
      "  RR    \n",
      "  RR    \n",
      "\n",
      "  OB    \n",
      "  YB    \n",
      "WOGOYYRB\n",
      "WOGYRRWB\n",
      "  WG    \n",
      "  RG    \n",
      "\n",
      "  OO    \n",
      "  YY    \n",
      "WOGGRYBB\n",
      "WOGGRYBB\n",
      "  WW    \n",
      "  RR    \n",
      "\n",
      "Finished step 0, 1 out of 1 remain open.\n",
      "Finished step 1, 1 out of 1 remain open.\n",
      "Finished step 2, 0 out of 1 remain open.\n",
      "Finished step 3, 0 out of 1 remain open.\n",
      "Finished step 4, 0 out of 1 remain open.\n",
      "Finished step 5, 0 out of 1 remain open.\n",
      "Finished step 6, 0 out of 1 remain open.\n",
      "Finished step 7, 0 out of 1 remain open.\n",
      "Finished step 8, 0 out of 1 remain open.\n",
      "Finished step 9, 0 out of 1 remain open.\n",
      "Epoch 1/3\n",
      "1/1 [==============================] - 0s 14ms/step - loss: 1.5438 - eval_output_loss: 0.4924 - policy_output_loss: 0.0347\n",
      "Epoch 2/3\n",
      "1/1 [==============================] - 0s 11ms/step - loss: 1.2962 - eval_output_loss: 0.4100 - policy_output_loss: 0.0344\n",
      "Epoch 3/3\n",
      "1/1 [==============================] - 0s 9ms/step - loss: 1.0441 - eval_output_loss: 0.3260 - policy_output_loss: 0.0342\n",
      "Finished step 0, 1 out of 1 remain open.\n",
      "Finished step 1, 1 out of 1 remain open.\n",
      "Finished step 2, 1 out of 1 remain open.\n",
      "Finished step 3, 1 out of 1 remain open.\n",
      "Finished step 4, 1 out of 1 remain open.\n",
      "Finished step 5, 1 out of 1 remain open.\n",
      "Finished step 6, 1 out of 1 remain open.\n",
      "Finished step 7, 1 out of 1 remain open.\n",
      "Finished step 8, 1 out of 1 remain open.\n",
      "Finished step 9, 1 out of 1 remain open.\n",
      "Epoch 1/3\n",
      "1/1 [==============================] - 3s 3s/step - loss: 0.1439 - eval_output_loss: 0.0300 - policy_output_loss: 0.0216\n",
      "Epoch 2/3\n",
      "1/1 [==============================] - 0s 11ms/step - loss: 0.1054 - eval_output_loss: 0.0172 - policy_output_loss: 0.0208\n",
      "Epoch 3/3\n",
      "1/1 [==============================] - 0s 12ms/step - loss: 0.0781 - eval_output_loss: 0.0084 - policy_output_loss: 0.0194\n",
      "Finished step 0, 1 out of 1 remain open.\n",
      "Finished step 1, 1 out of 1 remain open.\n",
      "Finished step 2, 1 out of 1 remain open.\n",
      "Finished step 3, 1 out of 1 remain open.\n",
      "Finished step 4, 1 out of 1 remain open.\n",
      "Finished step 5, 1 out of 1 remain open.\n",
      "Finished step 6, 1 out of 1 remain open.\n",
      "Finished step 7, 1 out of 1 remain open.\n",
      "Finished step 8, 1 out of 1 remain open.\n",
      "Finished step 9, 1 out of 1 remain open.\n",
      "Epoch 1/3\n",
      "1/1 [==============================] - 0s 13ms/step - loss: 0.0763 - eval_output_loss: 0.0028 - policy_output_loss: 0.0335\n",
      "Epoch 2/3\n",
      "1/1 [==============================] - 0s 11ms/step - loss: 0.0753 - eval_output_loss: 0.0026 - policy_output_loss: 0.0322\n",
      "Epoch 3/3\n",
      "1/1 [==============================] - 0s 9ms/step - loss: 0.0735 - eval_output_loss: 0.0025 - policy_output_loss: 0.0300\n",
      "Finished step 0, 1 out of 1 remain open.\n",
      "Finished step 1, 1 out of 1 remain open.\n",
      "Finished step 2, 1 out of 1 remain open.\n",
      "Finished step 3, 1 out of 1 remain open.\n",
      "Finished step 4, 1 out of 1 remain open.\n",
      "Finished step 5, 1 out of 1 remain open.\n",
      "Finished step 6, 1 out of 1 remain open.\n",
      "Finished step 7, 1 out of 1 remain open.\n"
     ]
    }
   ],
   "source": [
    "for i in range(10):\n",
    "    c.run_training_batch(n_problems=1,epochs_per_episode=3)\n",
    "    #if i % 10 == 0:\n",
    "    #    my_student_network.save(\"models/t.keras\")"
   ]
  }
 ],
 "metadata": {
  "kernelspec": {
   "display_name": "Python 3.10.8 64-bit",
   "language": "python",
   "name": "python3"
  },
  "language_info": {
   "codemirror_mode": {
    "name": "ipython",
    "version": 3
   },
   "file_extension": ".py",
   "mimetype": "text/x-python",
   "name": "python",
   "nbconvert_exporter": "python",
   "pygments_lexer": "ipython3",
   "version": "3.10.8"
  },
  "orig_nbformat": 4,
  "vscode": {
   "interpreter": {
    "hash": "ea0df938a2fb4e996541c96a685bf803a61ab029232d990df5cc8c7e24c9f388"
   }
  }
 },
 "nbformat": 4,
 "nbformat_minor": 2
}
